{
 "cells": [
  {
   "cell_type": "markdown",
   "id": "76eb4997",
   "metadata": {},
   "source": [
    "# Third Assignment: Content Based Filtering\n",
    "\n",
    "- Recommender Systems\n",
    "- Prof. Marc Torrens \n",
    "- TA: Gal·la Garcia-Castany"
   ]
  },
  {
   "cell_type": "markdown",
   "id": "ed5cba62",
   "metadata": {},
   "source": [
    "Remember to: \n",
    "- Make the code readable: comments or docstrings\n",
    "- The proposed solutions for the hybrid challenge need to be properly explained in a one-page pdf document to understand the rationale behind"
   ]
  },
  {
   "cell_type": "code",
   "execution_count": null,
   "id": "68aff7d9",
   "metadata": {},
   "outputs": [],
   "source": [
    "import pandas as pd\n",
    "tags = pd.read_csv(r\"./tags.csv\", sep = ';', index_col = 'Video')\n",
    "feedback = pd.read_csv(r\"./feedback.csv\", sep = ';', index_col = 'Video')\n",
    "comments = pd.read_csv(r\"./comments.csv\", sep = ';', index_col = 'Video')"
   ]
  },
  {
   "attachments": {},
   "cell_type": "markdown",
   "id": "2e2719b2",
   "metadata": {},
   "source": [
    "### Step 1.1: Simply Unary\n",
    "\n",
    "Return the top 5 recommended videos per user using content-based filtering for any input user.\n",
    "- You will have to infer the user profile using Simply Unary\n",
    "- Using this user profile, you will be able to predict each question using the cosine of (profile, item)\n",
    "- Please, refer to the class slides\n",
    "\n",
    "\n"
   ]
  },
  {
   "cell_type": "code",
   "execution_count": null,
   "id": "fc7561c6",
   "metadata": {},
   "outputs": [],
   "source": [
    "def simply_unary(tags, feedback, comments, n = 5):\n",
    "    # YOUR CODE HERE\n",
    "    return prediction"
   ]
  },
  {
   "cell_type": "code",
   "execution_count": null,
   "id": "5755fa96",
   "metadata": {},
   "outputs": [],
   "source": []
  },
  {
   "attachments": {},
   "cell_type": "markdown",
   "id": "8f717eb9",
   "metadata": {},
   "source": [
    "### Step 1.2: Unit Weight\n",
    "\n",
    "Some videos have more influence in the result as they contain more tags. \n",
    "Normalise the tags frequency for each question and calculate the predictions again. Divide the total different tags by the number of tags that the video has. Consider that the total number of tags in Youtube available are the ones that appear in the dataset ‘tags.csv’.\n",
    "\n",
    "Return the top 5 recommended videos per user using content-based filtering for any input user\n",
    "- You will have to infer the user profile using Unit Weight\n",
    "- Using this user profile, you will be able to predict each question using the cosine of (profile, item)\n",
    "- Please, refer to the class slides\n"
   ]
  },
  {
   "cell_type": "code",
   "execution_count": null,
   "id": "64b771d4",
   "metadata": {},
   "outputs": [],
   "source": [
    "def unit_weight(tags, feedback, comments, n = 5):\n",
    "    # YOUR CODE HERE\n",
    "    return prediction"
   ]
  },
  {
   "cell_type": "code",
   "execution_count": null,
   "id": "d15f81ae",
   "metadata": {},
   "outputs": [],
   "source": []
  },
  {
   "attachments": {},
   "cell_type": "markdown",
   "id": "05956cf5",
   "metadata": {},
   "source": [
    "### Step 1.3: IDF\n",
    "\n",
    "With the unit weight applied, now evaluate the topics relevance using IDF.\n",
    "The higher the number of videos a tag has, the lower its relevance is. \n",
    "Rare topics would have more weight applying IDF now, thus being more relevant for the final prediction.\n",
    "\n",
    "Return the top 5 recommended videos per user using content-based filtering for any input user\n",
    "- You will have to infer the user profile using IDF\n",
    "- Using this user profile, you will be able to predict each question using the cosine of (profile, item)\n",
    "- Please, refer to the class slides\n"
   ]
  },
  {
   "cell_type": "code",
   "execution_count": null,
   "id": "99048d73",
   "metadata": {},
   "outputs": [],
   "source": [
    "def idf(tags, feedback, comments, n = 5):\n",
    "    # YOUR CODE HERE\n",
    "    return prediction"
   ]
  },
  {
   "cell_type": "code",
   "execution_count": null,
   "id": "a3855e2b",
   "metadata": {},
   "outputs": [],
   "source": []
  },
  {
   "attachments": {},
   "cell_type": "markdown",
   "id": "3261ddbb",
   "metadata": {},
   "source": [
    "### Step 2.1: Switch\n",
    "\n",
    "Consider the case of User 4. User 4 is new in the webpage and is not having defined profile. \n",
    "\n",
    "Solve the User 4 cold-start problem switching the content-based to non-personalise for users without actions collected. \n",
    "\n",
    "Return the top 5 recommended videos per user using content-based filtering for any input user (use IDF for existing users). \n"
   ]
  },
  {
   "cell_type": "code",
   "execution_count": null,
   "id": "0da89dcd",
   "metadata": {},
   "outputs": [],
   "source": [
    "def switch(tags, feedback, comments, n = 5):\n",
    "    # YOUR CODE HERE\n",
    "    return prediction"
   ]
  },
  {
   "cell_type": "code",
   "execution_count": null,
   "id": "dd7e0e48",
   "metadata": {},
   "outputs": [],
   "source": []
  },
  {
   "attachments": {},
   "cell_type": "markdown",
   "id": "a86fa499",
   "metadata": {},
   "source": [
    "### Step 2.2: Hybrid Challenge\n",
    "\n",
    "Define your own hybrid solution. \n",
    "\n",
    "Return the top 5 recommended videos per user using content-based filtering for any input user with your solution.\n",
    "\n",
    "It is key in this exercise to explain in detail your solution with good argumentations. The “best explained” solution with have the best grade. Provide it in a pdf document. \n"
   ]
  },
  {
   "cell_type": "code",
   "execution_count": null,
   "id": "c789111f",
   "metadata": {},
   "outputs": [],
   "source": [
    "def hybrid_challenge(tags, feedback, comments, n = 5):\n",
    "    # YOUR CODE HERE\n",
    "    return prediction"
   ]
  },
  {
   "cell_type": "code",
   "execution_count": null,
   "id": "ed373cb2",
   "metadata": {},
   "outputs": [],
   "source": []
  },
  {
   "cell_type": "markdown",
   "id": "ee1c2b7c",
   "metadata": {},
   "source": [
    "### Step 3. Conclusions"
   ]
  },
  {
   "cell_type": "markdown",
   "id": "e46558f1",
   "metadata": {},
   "source": [
    "### 3.1. What challenges or difficulties did you face throughout the assignment?"
   ]
  },
  {
   "cell_type": "code",
   "execution_count": null,
   "id": "074bd0f6",
   "metadata": {},
   "outputs": [],
   "source": [
    "\"YOUR ANSWER HERE\""
   ]
  },
  {
   "cell_type": "code",
   "execution_count": null,
   "id": "d4f2b16e",
   "metadata": {},
   "outputs": [],
   "source": []
  },
  {
   "cell_type": "markdown",
   "id": "5468ca90",
   "metadata": {},
   "source": [
    "### 3.2. What are the main advantages and disadvantages of hybrid models?"
   ]
  },
  {
   "cell_type": "code",
   "execution_count": null,
   "id": "e27d13aa",
   "metadata": {},
   "outputs": [],
   "source": [
    "\"YOUR ANSWER HERE\""
   ]
  },
  {
   "cell_type": "code",
   "execution_count": null,
   "id": "96710699",
   "metadata": {},
   "outputs": [],
   "source": []
  },
  {
   "cell_type": "markdown",
   "id": "c6739c9b",
   "metadata": {},
   "source": [
    "### 3.3. How can you utilize Generative AI to enhance recommender system models?"
   ]
  },
  {
   "cell_type": "code",
   "execution_count": null,
   "id": "70ebbd0f",
   "metadata": {},
   "outputs": [],
   "source": [
    "\"YOUR ANSWER HERE\""
   ]
  },
  {
   "cell_type": "code",
   "execution_count": null,
   "id": "a57399b9",
   "metadata": {},
   "outputs": [],
   "source": []
  },
  {
   "cell_type": "code",
   "execution_count": null,
   "id": "4e4e05f1",
   "metadata": {},
   "outputs": [],
   "source": []
  },
  {
   "cell_type": "markdown",
   "id": "92e4f027",
   "metadata": {},
   "source": [
    "## Thanks! For any question or doubt, contact us on the forum."
   ]
  }
 ],
 "metadata": {
  "kernelspec": {
   "display_name": "Python 3 (ipykernel)",
   "language": "python",
   "name": "python3"
  },
  "language_info": {
   "codemirror_mode": {
    "name": "ipython",
    "version": 3
   },
   "file_extension": ".py",
   "mimetype": "text/x-python",
   "name": "python",
   "nbconvert_exporter": "python",
   "pygments_lexer": "ipython3",
   "version": "3.10.9"
  }
 },
 "nbformat": 4,
 "nbformat_minor": 5
}
